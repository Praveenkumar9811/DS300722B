{
 "cells": [
  {
   "cell_type": "code",
   "execution_count": 6,
   "id": "cd8b1856",
   "metadata": {},
   "outputs": [
    {
     "name": "stdout",
     "output_type": "stream",
     "text": [
      "23\n"
     ]
    },
    {
     "data": {
      "text/plain": [
       "'3'"
      ]
     },
     "execution_count": 6,
     "metadata": {},
     "output_type": "execute_result"
    }
   ],
   "source": [
    "number = input()\n",
    "list(number).pop()"
   ]
  },
  {
   "cell_type": "code",
   "execution_count": 2,
   "id": "e6698354",
   "metadata": {},
   "outputs": [
    {
     "name": "stdout",
     "output_type": "stream",
     "text": [
      "23\n"
     ]
    }
   ],
   "source": [
    "number = input()"
   ]
  },
  {
   "cell_type": "code",
   "execution_count": 3,
   "id": "8e94d0cc",
   "metadata": {},
   "outputs": [
    {
     "data": {
      "text/plain": [
       "'23'"
      ]
     },
     "execution_count": 3,
     "metadata": {},
     "output_type": "execute_result"
    }
   ],
   "source": [
    "number"
   ]
  },
  {
   "cell_type": "code",
   "execution_count": 5,
   "id": "75187b07",
   "metadata": {},
   "outputs": [
    {
     "data": {
      "text/plain": [
       "'3'"
      ]
     },
     "execution_count": 5,
     "metadata": {},
     "output_type": "execute_result"
    }
   ],
   "source": [
    "list(number).pop()"
   ]
  },
  {
   "cell_type": "code",
   "execution_count": 9,
   "id": "47e495f2",
   "metadata": {},
   "outputs": [
    {
     "data": {
      "text/plain": [
       "'3'"
      ]
     },
     "execution_count": 9,
     "metadata": {},
     "output_type": "execute_result"
    }
   ],
   "source": [
    "list(number)[-1]"
   ]
  },
  {
   "cell_type": "code",
   "execution_count": 12,
   "id": "5685f6d8",
   "metadata": {},
   "outputs": [],
   "source": [
    "# Program to check whether a number is even or odd\n",
    "\n",
    "num=23\n",
    "\n",
    "if num%2 ==0:\n",
    "    print(\"Number is even\")\n",
    "    print(\"Another statement\")\n",
    "    "
   ]
  },
  {
   "cell_type": "code",
   "execution_count": 14,
   "id": "7ca087fb",
   "metadata": {},
   "outputs": [
    {
     "name": "stdout",
     "output_type": "stream",
     "text": [
      "Number is even\n",
      "Another statement\n"
     ]
    }
   ],
   "source": [
    "# Program to check whether a number is even or odd\n",
    "\n",
    "num=22\n",
    "\n",
    "if num%2 ==0:\n",
    "    pass\n",
    "print(\"Number is even\")\n",
    "print(\"Another statement\")"
   ]
  },
  {
   "cell_type": "code",
   "execution_count": 18,
   "id": "b2b69f3f",
   "metadata": {},
   "outputs": [
    {
     "name": "stdout",
     "output_type": "stream",
     "text": [
      "12  is equal to  12\n"
     ]
    }
   ],
   "source": [
    "#Program to check whether two numbers are greater,lesser or equal to each other\n",
    "\n",
    "a = 12\n",
    "b=12\n",
    "\n",
    "if a>b:\n",
    "    print(a,\" is greater than \",b)\n",
    "elif a<b:\n",
    "    print(a,\" is less than \",b)\n",
    "else:\n",
    "    print(a,\" is equal to \",b)"
   ]
  },
  {
   "cell_type": "code",
   "execution_count": 23,
   "id": "ff09f9ed",
   "metadata": {},
   "outputs": [
    {
     "name": "stdout",
     "output_type": "stream",
     "text": [
      "53 is greater than 10\n",
      "53  is greater than 20\n"
     ]
    }
   ],
   "source": [
    "#Nested If else\n",
    "\n",
    "x = 53\n",
    "\n",
    "if x>10:\n",
    "    print(x ,\"is greater than 10\")\n",
    "    \n",
    "    if x>20:\n",
    "        print(x,\" is greater than 20\")\n",
    "    else:\n",
    "        print(x,\" is not greater than 20\")\n",
    "\n",
    "print(\"random stuff\")"
   ]
  },
  {
   "cell_type": "code",
   "execution_count": 28,
   "id": "c5954633",
   "metadata": {},
   "outputs": [
    {
     "name": "stdout",
     "output_type": "stream",
     "text": [
      "first 100 units no charge\n"
     ]
    }
   ],
   "source": [
    "if x<100:\n",
    "    print (\"first 100 units no charge\")\n",
    "elif x>100:\n",
    "    units_charge=x*5\n",
    "    print (\"units charge\", unitscharge)\n",
    "else :\n",
    "    units_charge=x*10\n",
    "    print (\"units charge\", unitscharge)"
   ]
  },
  {
   "cell_type": "code",
   "execution_count": 31,
   "id": "efbe580b",
   "metadata": {},
   "outputs": [
    {
     "name": "stdout",
     "output_type": "stream",
     "text": [
      "350\n"
     ]
    }
   ],
   "source": [
    "unit = int(input())\n",
    "if (unit <= 100):\n",
    "    bill = unit * 0\n",
    "elif (unit >= 101 and unit <=200):\n",
    "    bill = 0 + ((unit - 100) * 5)\n",
    "else :\n",
    "    bill = 0 + 500 + ((unit-200) *10)"
   ]
  },
  {
   "cell_type": "code",
   "execution_count": 32,
   "id": "2ab19c13",
   "metadata": {},
   "outputs": [
    {
     "data": {
      "text/plain": [
       "2000"
      ]
     },
     "execution_count": 32,
     "metadata": {},
     "output_type": "execute_result"
    }
   ],
   "source": [
    "bill"
   ]
  },
  {
   "cell_type": "code",
   "execution_count": 33,
   "id": "90f598ed",
   "metadata": {},
   "outputs": [],
   "source": [
    "fruit_list = [\"apple\",\"cherry\",\"banana\",\"mango\"]"
   ]
  },
  {
   "cell_type": "code",
   "execution_count": 34,
   "id": "52290b35",
   "metadata": {},
   "outputs": [
    {
     "name": "stdout",
     "output_type": "stream",
     "text": [
      "apple\n",
      "cherry\n",
      "banana\n",
      "mango\n"
     ]
    }
   ],
   "source": [
    "print(fruit_list[0])\n",
    "print(fruit_list[1])\n",
    "print(fruit_list[2])\n",
    "print(fruit_list[3])"
   ]
  },
  {
   "cell_type": "code",
   "execution_count": 35,
   "id": "d5884f20",
   "metadata": {},
   "outputs": [
    {
     "name": "stdout",
     "output_type": "stream",
     "text": [
      "apple\n",
      "cherry\n",
      "banana\n",
      "mango\n"
     ]
    }
   ],
   "source": [
    "for element in fruit_list:\n",
    "    print(element)"
   ]
  },
  {
   "cell_type": "code",
   "execution_count": 37,
   "id": "daf24956",
   "metadata": {},
   "outputs": [
    {
     "name": "stdout",
     "output_type": "stream",
     "text": [
      "average  72.0\n",
      "360\n"
     ]
    }
   ],
   "source": [
    "marks = [50,60,70,80,100]\n",
    "sum_marks=0\n",
    "num_of_students = len(marks)\n",
    "for mark in marks:\n",
    "    sum_marks = sum_marks+mark\n",
    "    \n",
    "    \n",
    "    \n",
    "    \n",
    "print(\"average \",sum_marks/num_of_students)\n",
    "print(sum_marks)"
   ]
  },
  {
   "cell_type": "code",
   "execution_count": 38,
   "id": "90773159",
   "metadata": {},
   "outputs": [
    {
     "data": {
      "text/plain": [
       "72.0"
      ]
     },
     "execution_count": 38,
     "metadata": {},
     "output_type": "execute_result"
    }
   ],
   "source": [
    "360/5"
   ]
  },
  {
   "cell_type": "code",
   "execution_count": 40,
   "id": "9f3f404b",
   "metadata": {},
   "outputs": [
    {
     "data": {
      "text/plain": [
       "72.0"
      ]
     },
     "execution_count": 40,
     "metadata": {},
     "output_type": "execute_result"
    }
   ],
   "source": [
    "sum(marks)/len(marks)"
   ]
  },
  {
   "cell_type": "code",
   "execution_count": 41,
   "id": "daab53e8",
   "metadata": {},
   "outputs": [],
   "source": [
    "a=[10,12,15,16,1822]\n",
    "\n"
   ]
  },
  {
   "cell_type": "code",
   "execution_count": 42,
   "id": "c332e01d",
   "metadata": {},
   "outputs": [
    {
     "name": "stdout",
     "output_type": "stream",
     "text": [
      "<class 'list'>\n"
     ]
    }
   ],
   "source": [
    "print(type(a))\n"
   ]
  },
  {
   "cell_type": "code",
   "execution_count": 45,
   "id": "7d3a55aa",
   "metadata": {},
   "outputs": [],
   "source": [
    "b=sum(a)"
   ]
  },
  {
   "cell_type": "code",
   "execution_count": 46,
   "id": "8037c0c9",
   "metadata": {},
   "outputs": [
    {
     "name": "stdout",
     "output_type": "stream",
     "text": [
      "1875\n"
     ]
    }
   ],
   "source": [
    "print(b)"
   ]
  },
  {
   "cell_type": "code",
   "execution_count": null,
   "id": "7bc338b3",
   "metadata": {},
   "outputs": [],
   "source": []
  }
 ],
 "metadata": {
  "kernelspec": {
   "display_name": "Python 3 (ipykernel)",
   "language": "python",
   "name": "python3"
  },
  "language_info": {
   "codemirror_mode": {
    "name": "ipython",
    "version": 3
   },
   "file_extension": ".py",
   "mimetype": "text/x-python",
   "name": "python",
   "nbconvert_exporter": "python",
   "pygments_lexer": "ipython3",
   "version": "3.10.6"
  }
 },
 "nbformat": 4,
 "nbformat_minor": 5
}
