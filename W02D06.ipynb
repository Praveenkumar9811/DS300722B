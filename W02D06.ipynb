{
 "cells": [
  {
   "cell_type": "code",
   "execution_count": 6,
   "id": "3c5110f2",
   "metadata": {},
   "outputs": [
    {
     "name": "stdout",
     "output_type": "stream",
     "text": [
      "Hello welocome to Edyoda class for string How did you find the class\n"
     ]
    }
   ],
   "source": [
    "greeting = \"Hello welocome to Edyoda class for string\"\n",
    "query = \"How did you find the class\"\n",
    "print(greeting,end=\" \")\n",
    "print(query)"
   ]
  },
  {
   "cell_type": "code",
   "execution_count": 7,
   "id": "cf6aee41",
   "metadata": {},
   "outputs": [
    {
     "name": "stdout",
     "output_type": "stream",
     "text": [
      "Help on built-in function print in module builtins:\n",
      "\n",
      "print(...)\n",
      "    print(value, ..., sep=' ', end='\\n', file=sys.stdout, flush=False)\n",
      "    \n",
      "    Prints the values to a stream, or to sys.stdout by default.\n",
      "    Optional keyword arguments:\n",
      "    file:  a file-like object (stream); defaults to the current sys.stdout.\n",
      "    sep:   string inserted between values, default a space.\n",
      "    end:   string appended after the last value, default a newline.\n",
      "    flush: whether to forcibly flush the stream.\n",
      "\n"
     ]
    }
   ],
   "source": [
    "help(print)"
   ]
  },
  {
   "cell_type": "code",
   "execution_count": 11,
   "id": "ee1d7687",
   "metadata": {},
   "outputs": [
    {
     "name": "stdout",
     "output_type": "stream",
     "text": [
      "Please enter your nameRaj\n"
     ]
    }
   ],
   "source": [
    "name = input(\"Please enter your name\")"
   ]
  },
  {
   "cell_type": "code",
   "execution_count": 13,
   "id": "b6877464",
   "metadata": {},
   "outputs": [
    {
     "name": "stdout",
     "output_type": "stream",
     "text": [
      "Raj\n"
     ]
    }
   ],
   "source": [
    "print(name)"
   ]
  },
  {
   "cell_type": "code",
   "execution_count": 24,
   "id": "eb05f09f",
   "metadata": {},
   "outputs": [],
   "source": [
    "my_string = \"Hello my name is Raj Singhania how are you doing today\""
   ]
  },
  {
   "cell_type": "code",
   "execution_count": 20,
   "id": "7ee1f8b4",
   "metadata": {},
   "outputs": [],
   "source": [
    "split_string = my_string.split(' ')"
   ]
  },
  {
   "cell_type": "code",
   "execution_count": 21,
   "id": "ba209496",
   "metadata": {},
   "outputs": [
    {
     "name": "stdout",
     "output_type": "stream",
     "text": [
      "['Hello,', 'my,', 'name,', 'is,', 'Raj,', 'Singhania,', 'how,', 'are,', 'you,', 'doing,', 'today']\n"
     ]
    }
   ],
   "source": [
    "print(split_string)"
   ]
  },
  {
   "cell_type": "code",
   "execution_count": 23,
   "id": "2d1c8eb6",
   "metadata": {},
   "outputs": [
    {
     "data": {
      "text/plain": [
       "'Hello, my, name, is, Raj, Singhania, how, are, you, doing, today'"
      ]
     },
     "execution_count": 23,
     "metadata": {},
     "output_type": "execute_result"
    }
   ],
   "source": [
    "greeting_list = ['Hello,', 'my,', 'name,', 'is,', 'Raj,', 'Singhania,', 'how,', 'are,', 'you,', 'doing,', 'today']\n",
    "\" \".join(greeting_list)"
   ]
  },
  {
   "cell_type": "code",
   "execution_count": 26,
   "id": "0bc6837b",
   "metadata": {},
   "outputs": [
    {
     "data": {
      "text/plain": [
       "17"
      ]
     },
     "execution_count": 26,
     "metadata": {},
     "output_type": "execute_result"
    }
   ],
   "source": [
    "my_string.find('Raj')"
   ]
  },
  {
   "cell_type": "code",
   "execution_count": 27,
   "id": "c2574ab1",
   "metadata": {},
   "outputs": [],
   "source": [
    "my_string = \"Raj is a student of Edyoda B batch. Raj love coding in python. Raj has created a python scipt to print a table\""
   ]
  },
  {
   "cell_type": "code",
   "execution_count": 28,
   "id": "e1e36c36",
   "metadata": {},
   "outputs": [
    {
     "data": {
      "text/plain": [
       "3"
      ]
     },
     "execution_count": 28,
     "metadata": {},
     "output_type": "execute_result"
    }
   ],
   "source": [
    "my_string.count(\"Raj\")"
   ]
  },
  {
   "cell_type": "code",
   "execution_count": 30,
   "id": "4d6f9981",
   "metadata": {},
   "outputs": [
    {
     "data": {
      "text/plain": [
       "'Hello my name is Raj Singhania how are you doing today'"
      ]
     },
     "execution_count": 30,
     "metadata": {},
     "output_type": "execute_result"
    }
   ],
   "source": [
    "my_string= 'Hello, my, name, is, Raj, Singhania, how, are, you, doing, today'\n",
    "my_string.replace(\",\",\"\")"
   ]
  },
  {
   "cell_type": "code",
   "execution_count": 34,
   "id": "a5146dfb",
   "metadata": {},
   "outputs": [
    {
     "name": "stdout",
     "output_type": "stream",
     "text": [
      "True\n"
     ]
    }
   ],
   "source": [
    "my_string = \"MY NAME IS RAJ\"\n",
    "print(my_string.isupper())"
   ]
  },
  {
   "cell_type": "code",
   "execution_count": 36,
   "id": "f9192e2e",
   "metadata": {},
   "outputs": [
    {
     "data": {
      "text/plain": [
       "True"
      ]
     },
     "execution_count": 36,
     "metadata": {},
     "output_type": "execute_result"
    }
   ],
   "source": [
    "my_string.isupper()"
   ]
  },
  {
   "cell_type": "code",
   "execution_count": 38,
   "id": "a801999b",
   "metadata": {},
   "outputs": [
    {
     "data": {
      "text/plain": [
       "'my name is raj'"
      ]
     },
     "execution_count": 38,
     "metadata": {},
     "output_type": "execute_result"
    }
   ],
   "source": [
    "my_string.lower()"
   ]
  },
  {
   "cell_type": "code",
   "execution_count": 40,
   "id": "064afc00",
   "metadata": {},
   "outputs": [
    {
     "data": {
      "text/plain": [
       "False"
      ]
     },
     "execution_count": 40,
     "metadata": {},
     "output_type": "execute_result"
    }
   ],
   "source": [
    "title = \"EdyOda\"\n",
    "title.istitle()"
   ]
  },
  {
   "cell_type": "code",
   "execution_count": 41,
   "id": "8f93eb54",
   "metadata": {},
   "outputs": [
    {
     "data": {
      "text/plain": [
       "'Edyoda'"
      ]
     },
     "execution_count": 41,
     "metadata": {},
     "output_type": "execute_result"
    }
   ],
   "source": [
    "title.title()"
   ]
  },
  {
   "cell_type": "code",
   "execution_count": 46,
   "id": "07ef7157",
   "metadata": {},
   "outputs": [],
   "source": [
    "my_string = \"Hi my name is Rahul,I like code in python, It is my favorite programming language\""
   ]
  },
  {
   "cell_type": "code",
   "execution_count": 48,
   "id": "7ee73eca",
   "metadata": {},
   "outputs": [
    {
     "data": {
      "text/plain": [
       "'Hi my name is Rahul,Rahul like code in python, It is my favorite programming language'"
      ]
     },
     "execution_count": 48,
     "metadata": {},
     "output_type": "execute_result"
    }
   ],
   "source": [
    "my_string.replace(\"I \",\"Rahul \")"
   ]
  },
  {
   "cell_type": "code",
   "execution_count": 51,
   "id": "77c03fff",
   "metadata": {},
   "outputs": [
    {
     "name": "stdout",
     "output_type": "stream",
     "text": [
      "adoydE"
     ]
    }
   ],
   "source": [
    "my_str = \"Edyoda\"\n",
    "for i in range(len(my_str)):\n",
    "    print(my_str[len(my_str)-i-1],end=\"\")"
   ]
  },
  {
   "cell_type": "code",
   "execution_count": 54,
   "id": "867164e0",
   "metadata": {},
   "outputs": [],
   "source": [
    "my_str = \"Edyoda\"\n",
    "reverse_str= \"\"\n",
    "for i in range(len(my_str)-1,-1,-1):\n",
    "    reverse_str = reverse_str + my_str[i]"
   ]
  },
  {
   "cell_type": "code",
   "execution_count": 55,
   "id": "abb404a3",
   "metadata": {},
   "outputs": [
    {
     "data": {
      "text/plain": [
       "'adoydE'"
      ]
     },
     "execution_count": 55,
     "metadata": {},
     "output_type": "execute_result"
    }
   ],
   "source": [
    "reverse_str"
   ]
  },
  {
   "cell_type": "code",
   "execution_count": 56,
   "id": "63a1c5bf",
   "metadata": {},
   "outputs": [
    {
     "data": {
      "text/plain": [
       "'Edyoda'"
      ]
     },
     "execution_count": 56,
     "metadata": {},
     "output_type": "execute_result"
    }
   ],
   "source": [
    "my_str"
   ]
  },
  {
   "cell_type": "code",
   "execution_count": 65,
   "id": "fdf615a2",
   "metadata": {},
   "outputs": [],
   "source": [
    "# Palindromes\n",
    "orignial_str = 'teju ke papa ke jute'\n",
    "reverse_str= \"\"\n",
    "for i in range(len(orignial_str)-1,-1,-1):\n",
    "    reverse_str = reverse_str + orignial_str[i]"
   ]
  },
  {
   "cell_type": "code",
   "execution_count": 66,
   "id": "9de66acc",
   "metadata": {},
   "outputs": [
    {
     "data": {
      "text/plain": [
       "'etuj ek apap ek ujet'"
      ]
     },
     "execution_count": 66,
     "metadata": {},
     "output_type": "execute_result"
    }
   ],
   "source": [
    "reverse_str"
   ]
  },
  {
   "cell_type": "code",
   "execution_count": 64,
   "id": "95a6c768",
   "metadata": {},
   "outputs": [
    {
     "data": {
      "text/plain": [
       "True"
      ]
     },
     "execution_count": 64,
     "metadata": {},
     "output_type": "execute_result"
    }
   ],
   "source": [
    "reverse_str == orignial_str"
   ]
  },
  {
   "cell_type": "code",
   "execution_count": null,
   "id": "8181312c",
   "metadata": {},
   "outputs": [],
   "source": []
  }
 ],
 "metadata": {
  "kernelspec": {
   "display_name": "Python 3 (ipykernel)",
   "language": "python",
   "name": "python3"
  },
  "language_info": {
   "codemirror_mode": {
    "name": "ipython",
    "version": 3
   },
   "file_extension": ".py",
   "mimetype": "text/x-python",
   "name": "python",
   "nbconvert_exporter": "python",
   "pygments_lexer": "ipython3",
   "version": "3.10.6"
  }
 },
 "nbformat": 4,
 "nbformat_minor": 5
}
