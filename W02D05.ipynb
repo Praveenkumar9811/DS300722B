{
 "cells": [
  {
   "cell_type": "markdown",
   "id": "f84b88f0",
   "metadata": {},
   "source": [
    "## While Loop"
   ]
  },
  {
   "cell_type": "code",
   "execution_count": null,
   "id": "b2204674",
   "metadata": {},
   "outputs": [],
   "source": [
    "i=1\n",
    "while i<10:\n",
    "    print(i)\n",
    "    i=i+1\n",
    "    i+=1 #shortand notation"
   ]
  },
  {
   "cell_type": "code",
   "execution_count": null,
   "id": "137ab030",
   "metadata": {},
   "outputs": [],
   "source": [
    "i=10\n",
    "i = i*2\n",
    "print(i)"
   ]
  },
  {
   "cell_type": "code",
   "execution_count": null,
   "id": "73108629",
   "metadata": {},
   "outputs": [],
   "source": [
    "i=10\n",
    "i *=2\n",
    "print(i)"
   ]
  },
  {
   "cell_type": "code",
   "execution_count": null,
   "id": "aa49f472",
   "metadata": {},
   "outputs": [],
   "source": [
    "i=10\n",
    "i=i-10\n",
    "print(i)"
   ]
  },
  {
   "cell_type": "code",
   "execution_count": null,
   "id": "9f050428",
   "metadata": {},
   "outputs": [],
   "source": [
    "i=10\n",
    "i-=10\n",
    "print(i)"
   ]
  },
  {
   "cell_type": "code",
   "execution_count": null,
   "id": "75952e80",
   "metadata": {},
   "outputs": [],
   "source": [
    "i=1\n",
    "while i<10:\n",
    "    print(i)"
   ]
  },
  {
   "cell_type": "code",
   "execution_count": null,
   "id": "b319ccd5",
   "metadata": {},
   "outputs": [],
   "source": [
    "if 1<2:\n",
    "    pass"
   ]
  },
  {
   "cell_type": "code",
   "execution_count": null,
   "id": "f65734d5",
   "metadata": {},
   "outputs": [],
   "source": [
    "i=1\n",
    "while i<10:\n",
    "    pass"
   ]
  },
  {
   "cell_type": "code",
   "execution_count": null,
   "id": "d696bae5",
   "metadata": {},
   "outputs": [],
   "source": [
    "# Write a program to print the third largest number from a list of number"
   ]
  },
  {
   "cell_type": "code",
   "execution_count": null,
   "id": "2806d454",
   "metadata": {},
   "outputs": [],
   "source": [
    "a_list = [2,23,54,32,87,34,65,98]\n"
   ]
  },
  {
   "cell_type": "code",
   "execution_count": null,
   "id": "7aaf1d97",
   "metadata": {},
   "outputs": [],
   "source": [
    "a_list = [1,2,2,3]\n",
    "a_list.remove(2)"
   ]
  },
  {
   "cell_type": "code",
   "execution_count": null,
   "id": "7ab787ba",
   "metadata": {},
   "outputs": [],
   "source": [
    "a_list"
   ]
  },
  {
   "cell_type": "code",
   "execution_count": null,
   "id": "9c1ae7e7",
   "metadata": {},
   "outputs": [],
   "source": [
    "lst = [1,13,13,5,7,8,9]\n",
    "count = 3\n",
    "\n",
    "for i in range(count):\n",
    "    larg = lst[0]\n",
    "    for i in lst:\n",
    "            if(larg < i):\n",
    "                larg = i\n",
    "    lst.remove(larg)\n",
    "\n",
    "print(larg)\n"
   ]
  },
  {
   "cell_type": "code",
   "execution_count": null,
   "id": "d94586e0",
   "metadata": {},
   "outputs": [],
   "source": [
    "lst = [2,23,54,32,87,34,65,98]\n",
    "\n",
    "first_largest = -1\n",
    "second_largest = -1\n",
    "third_largest = -1\n",
    "\n",
    "i=0\n",
    "len_list = len(lst)\n",
    "while(i<len_list):\n",
    "    \n",
    "    if first_largest < lst[i]:\n",
    "        third_largest = second_largest\n",
    "        second_largest = first_largest\n",
    "        first_largest = lst[i]\n",
    "\n",
    "    \n",
    "    elif second_largest<lst[i]:\n",
    "        third_largest=second_largest\n",
    "        second_largest=lst[i]\n",
    "    elif third_largest <lst[i]:\n",
    "        third_largest=lst[i]\n",
    "    \n",
    "    i+=1\n",
    "            "
   ]
  },
  {
   "cell_type": "code",
   "execution_count": null,
   "id": "5ccc7de8",
   "metadata": {},
   "outputs": [],
   "source": [
    "first_largest"
   ]
  },
  {
   "cell_type": "code",
   "execution_count": null,
   "id": "1e43cd42",
   "metadata": {},
   "outputs": [],
   "source": [
    "second_largest"
   ]
  },
  {
   "cell_type": "code",
   "execution_count": null,
   "id": "b6059a63",
   "metadata": {},
   "outputs": [],
   "source": [
    "third_largest"
   ]
  },
  {
   "cell_type": "code",
   "execution_count": null,
   "id": "e4be3f17",
   "metadata": {},
   "outputs": [],
   "source": [
    "# Print Multiplication Table\n",
    "n = int(input())\n",
    "for i in range(1, 11):\n",
    "    print(n, \"X\", i, \"=\", n*i)"
   ]
  },
  {
   "cell_type": "code",
   "execution_count": null,
   "id": "262fbc1a",
   "metadata": {},
   "outputs": [],
   "source": [
    "i=1\n",
    "i+=1"
   ]
  },
  {
   "cell_type": "code",
   "execution_count": 2,
   "id": "4e7e2a15",
   "metadata": {},
   "outputs": [
    {
     "name": "stdout",
     "output_type": "stream",
     "text": [
      "1\n",
      "2\n",
      "3\n",
      "Broke out of while loop\n"
     ]
    }
   ],
   "source": [
    "i=1\n",
    "while i<8:\n",
    "    if i==4:\n",
    "        break\n",
    "    print(i)\n",
    "    i+=1\n",
    "\n",
    "print(\"Broke out of while loop\")"
   ]
  },
  {
   "cell_type": "code",
   "execution_count": 6,
   "id": "877d7483",
   "metadata": {},
   "outputs": [
    {
     "name": "stdout",
     "output_type": "stream",
     "text": [
      "1\n",
      "2\n",
      "3\n",
      "Broke out of while loop\n"
     ]
    }
   ],
   "source": [
    "i=0\n",
    "while i<8:\n",
    "    i+=1\n",
    "    if i==4:\n",
    "        break\n",
    "    print(i)\n",
    "\n",
    "\n",
    "print(\"Broke out of while loop\")"
   ]
  },
  {
   "cell_type": "code",
   "execution_count": 7,
   "id": "91f1cedc",
   "metadata": {},
   "outputs": [
    {
     "name": "stdout",
     "output_type": "stream",
     "text": [
      "*\n",
      "**\n",
      "***\n",
      "****\n",
      "*****\n"
     ]
    }
   ],
   "source": [
    "n = 5\n",
    "mylist = [ ]\n",
    "for i in range (1, n+1) :\n",
    "    mylist.append (\"*\" *i) \n",
    "print(\"\\n\".join(mylist))\n"
   ]
  },
  {
   "cell_type": "code",
   "execution_count": 8,
   "id": "d227618d",
   "metadata": {},
   "outputs": [
    {
     "name": "stdout",
     "output_type": "stream",
     "text": [
      "    *\n",
      "   **\n",
      "  ***\n",
      " ****\n",
      "*****\n"
     ]
    }
   ],
   "source": [
    "n = 5\n",
    "mylist = [ ]\n",
    "for i in range (1, n+1) :\n",
    "    mylist.append (\" \"*(n-i) + \"*\" *i) \n",
    "print(\"\\n\".join(mylist))"
   ]
  },
  {
   "cell_type": "code",
   "execution_count": 9,
   "id": "0f683359",
   "metadata": {},
   "outputs": [
    {
     "name": "stdout",
     "output_type": "stream",
     "text": [
      "\n"
     ]
    }
   ],
   "source": [
    "print()"
   ]
  },
  {
   "cell_type": "code",
   "execution_count": 11,
   "id": "de0b91cf",
   "metadata": {},
   "outputs": [
    {
     "name": "stdout",
     "output_type": "stream",
     "text": [
      "False\n"
     ]
    }
   ],
   "source": [
    "a = (1,2,3)\n",
    "\n",
    "b = (1,2,3)\n",
    "\n",
    "print(id(a)==id(b))"
   ]
  },
  {
   "cell_type": "code",
   "execution_count": 12,
   "id": "e3d376fd",
   "metadata": {},
   "outputs": [
    {
     "name": "stdout",
     "output_type": "stream",
     "text": [
      "2190293951680\n"
     ]
    }
   ],
   "source": [
    "print(id(a))\n"
   ]
  },
  {
   "cell_type": "code",
   "execution_count": 13,
   "id": "0e7784f9",
   "metadata": {},
   "outputs": [
    {
     "name": "stdout",
     "output_type": "stream",
     "text": [
      "2190294305152\n"
     ]
    }
   ],
   "source": [
    "print(id(b))\n"
   ]
  },
  {
   "cell_type": "code",
   "execution_count": null,
   "id": "623d0e3a",
   "metadata": {},
   "outputs": [],
   "source": []
  }
 ],
 "metadata": {
  "kernelspec": {
   "display_name": "Python 3 (ipykernel)",
   "language": "python",
   "name": "python3"
  },
  "language_info": {
   "codemirror_mode": {
    "name": "ipython",
    "version": 3
   },
   "file_extension": ".py",
   "mimetype": "text/x-python",
   "name": "python",
   "nbconvert_exporter": "python",
   "pygments_lexer": "ipython3",
   "version": "3.10.6"
  }
 },
 "nbformat": 4,
 "nbformat_minor": 5
}
