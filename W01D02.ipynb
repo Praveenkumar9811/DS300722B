{
 "cells": [
  {
   "cell_type": "code",
   "execution_count": null,
   "id": "545e29b8",
   "metadata": {},
   "outputs": [],
   "source": [
    "print(\"This is my first program\")"
   ]
  },
  {
   "cell_type": "code",
   "execution_count": null,
   "id": "61ff062b",
   "metadata": {},
   "outputs": [],
   "source": [
    "student_1 = \"N Ansari\"\n",
    "student_2 = \"Praveen\"\n"
   ]
  },
  {
   "cell_type": "code",
   "execution_count": null,
   "id": "b8b01b67",
   "metadata": {},
   "outputs": [],
   "source": [
    "student_1\n",
    "_student\n",
    "Student_1"
   ]
  },
  {
   "cell_type": "code",
   "execution_count": 2,
   "id": "f4c2d2fd",
   "metadata": {},
   "outputs": [
    {
     "ename": "SyntaxError",
     "evalue": "invalid syntax (2456119141.py, line 1)",
     "output_type": "error",
     "traceback": [
      "\u001b[1;36m  Input \u001b[1;32mIn [2]\u001b[1;36m\u001b[0m\n\u001b[1;33m    $student = \"Shaikh\"\u001b[0m\n\u001b[1;37m    ^\u001b[0m\n\u001b[1;31mSyntaxError\u001b[0m\u001b[1;31m:\u001b[0m invalid syntax\n"
     ]
    }
   ],
   "source": [
    "$student = \"Shaikh\""
   ]
  },
  {
   "cell_type": "code",
   "execution_count": 3,
   "id": "4939890c",
   "metadata": {},
   "outputs": [
    {
     "ename": "SyntaxError",
     "evalue": "invalid decimal literal (3494741742.py, line 1)",
     "output_type": "error",
     "traceback": [
      "\u001b[1;36m  Input \u001b[1;32mIn [3]\u001b[1;36m\u001b[0m\n\u001b[1;33m    20student = \"Shaikh\"\u001b[0m\n\u001b[1;37m     ^\u001b[0m\n\u001b[1;31mSyntaxError\u001b[0m\u001b[1;31m:\u001b[0m invalid decimal literal\n"
     ]
    }
   ],
   "source": [
    "20student = \"Shaikh\""
   ]
  },
  {
   "cell_type": "code",
   "execution_count": 5,
   "id": "73b42278",
   "metadata": {},
   "outputs": [],
   "source": [
    "student1=\"Shashank\""
   ]
  },
  {
   "cell_type": "code",
   "execution_count": 6,
   "id": "7a10d00a",
   "metadata": {},
   "outputs": [
    {
     "ename": "SyntaxError",
     "evalue": "invalid syntax (3055678093.py, line 1)",
     "output_type": "error",
     "traceback": [
      "\u001b[1;36m  Input \u001b[1;32mIn [6]\u001b[1;36m\u001b[0m\n\u001b[1;33m    student$ = \"Shashank\"\u001b[0m\n\u001b[1;37m           ^\u001b[0m\n\u001b[1;31mSyntaxError\u001b[0m\u001b[1;31m:\u001b[0m invalid syntax\n"
     ]
    }
   ],
   "source": [
    "student$ = \"Shashank\""
   ]
  },
  {
   "cell_type": "code",
   "execution_count": null,
   "id": "a6933cfa",
   "metadata": {},
   "outputs": [],
   "source": [
    "student20 = \"Shashank\"\n",
    "student2^ = \"Shashank\"\n",
    "1student = \"Shashank\"\n",
    "Stud1ent = \"Shashank\""
   ]
  },
  {
   "cell_type": "code",
   "execution_count": 8,
   "id": "6aacd942",
   "metadata": {},
   "outputs": [],
   "source": [
    "student20 = \"Shashank\"\n"
   ]
  },
  {
   "cell_type": "code",
   "execution_count": 9,
   "id": "c38d0fea",
   "metadata": {},
   "outputs": [
    {
     "ename": "SyntaxError",
     "evalue": "invalid syntax (1513295489.py, line 1)",
     "output_type": "error",
     "traceback": [
      "\u001b[1;36m  Input \u001b[1;32mIn [9]\u001b[1;36m\u001b[0m\n\u001b[1;33m    student2^ = \"Shashank\"\u001b[0m\n\u001b[1;37m              ^\u001b[0m\n\u001b[1;31mSyntaxError\u001b[0m\u001b[1;31m:\u001b[0m invalid syntax\n"
     ]
    }
   ],
   "source": [
    "student2^ = \"Shashank\"\n"
   ]
  },
  {
   "cell_type": "code",
   "execution_count": 10,
   "id": "9a180e27",
   "metadata": {},
   "outputs": [
    {
     "ename": "SyntaxError",
     "evalue": "invalid decimal literal (90917110.py, line 1)",
     "output_type": "error",
     "traceback": [
      "\u001b[1;36m  Input \u001b[1;32mIn [10]\u001b[1;36m\u001b[0m\n\u001b[1;33m    1student = \"Shashank\"\u001b[0m\n\u001b[1;37m    ^\u001b[0m\n\u001b[1;31mSyntaxError\u001b[0m\u001b[1;31m:\u001b[0m invalid decimal literal\n"
     ]
    }
   ],
   "source": [
    "1student = \"Shashank\"\n"
   ]
  },
  {
   "cell_type": "code",
   "execution_count": 12,
   "id": "c76b4a84",
   "metadata": {},
   "outputs": [],
   "source": [
    "Stud1ent = \"Shashank\""
   ]
  },
  {
   "cell_type": "code",
   "execution_count": 18,
   "id": "18001c1b",
   "metadata": {},
   "outputs": [
    {
     "name": "stdout",
     "output_type": "stream",
     "text": [
      "<class 'int'>\n",
      "<class 'int'>\n"
     ]
    }
   ],
   "source": [
    "# Declaring numeric data type\n",
    "\n",
    "marks_student_1 = 98\n",
    "dtype = type(marks_student_1)\n",
    "print(dtype)\n",
    "\n",
    "\n",
    "print(type(marks_student_1))\n",
    "\n"
   ]
  },
  {
   "cell_type": "code",
   "execution_count": 15,
   "id": "ea7b8cb5",
   "metadata": {},
   "outputs": [
    {
     "name": "stdout",
     "output_type": "stream",
     "text": [
      "<class 'float'>\n"
     ]
    }
   ],
   "source": [
    "marks_student_2 = 99.5\n",
    "print(type(marks_student_2))"
   ]
  },
  {
   "cell_type": "code",
   "execution_count": 16,
   "id": "90bbf31a",
   "metadata": {},
   "outputs": [],
   "source": [
    "marks_student_3 = 3+4j"
   ]
  },
  {
   "cell_type": "code",
   "execution_count": 17,
   "id": "f7a67631",
   "metadata": {},
   "outputs": [
    {
     "name": "stdout",
     "output_type": "stream",
     "text": [
      "<class 'complex'>\n"
     ]
    }
   ],
   "source": [
    "print(type(marks_student_3))"
   ]
  },
  {
   "cell_type": "markdown",
   "id": "86ab23ba",
   "metadata": {},
   "source": [
    "## Q1 Declare three different variables of int,float and complex and print their data types"
   ]
  },
  {
   "cell_type": "code",
   "execution_count": 19,
   "id": "110e45fc",
   "metadata": {},
   "outputs": [
    {
     "name": "stdout",
     "output_type": "stream",
     "text": [
      "<class 'str'>\n"
     ]
    }
   ],
   "source": [
    "student_1_name = \"Kritika\"\n",
    "student_2_name = \"Shashank\"\n",
    "student_3_name = 'kritika'\n",
    "student_4_name = \"\"\"Tulashi\"\"\"\n",
    "print(type(student_1_name))"
   ]
  },
  {
   "cell_type": "code",
   "execution_count": 20,
   "id": "9caa95b7",
   "metadata": {},
   "outputs": [
    {
     "name": "stdout",
     "output_type": "stream",
     "text": [
      "<class 'str'>\n",
      "<class 'str'>\n",
      "<class 'str'>\n"
     ]
    }
   ],
   "source": [
    "print(type(student_2_name))\n",
    "print(type(student_3_name))\n",
    "print(type(student_4_name))"
   ]
  },
  {
   "cell_type": "code",
   "execution_count": 21,
   "id": "4baf939f",
   "metadata": {},
   "outputs": [
    {
     "data": {
      "text/plain": [
       "'a'"
      ]
     },
     "execution_count": 21,
     "metadata": {},
     "output_type": "execute_result"
    }
   ],
   "source": [
    "student_1_name[6]"
   ]
  },
  {
   "cell_type": "code",
   "execution_count": 22,
   "id": "2a6c41bf",
   "metadata": {},
   "outputs": [
    {
     "data": {
      "text/plain": [
       "'K'"
      ]
     },
     "execution_count": 22,
     "metadata": {},
     "output_type": "execute_result"
    }
   ],
   "source": [
    "student_1_name[0]"
   ]
  },
  {
   "cell_type": "code",
   "execution_count": 23,
   "id": "32d21e04",
   "metadata": {},
   "outputs": [
    {
     "data": {
      "text/plain": [
       "'t'"
      ]
     },
     "execution_count": 23,
     "metadata": {},
     "output_type": "execute_result"
    }
   ],
   "source": [
    "student_1_name[3]"
   ]
  },
  {
   "cell_type": "code",
   "execution_count": 24,
   "id": "ef58a675",
   "metadata": {},
   "outputs": [
    {
     "data": {
      "text/plain": [
       "'i'"
      ]
     },
     "execution_count": 24,
     "metadata": {},
     "output_type": "execute_result"
    }
   ],
   "source": [
    "student_5_name = \"Aarushi\"\n",
    "student_5_name[6]"
   ]
  },
  {
   "cell_type": "markdown",
   "id": "31a4cabb",
   "metadata": {},
   "source": [
    "## My class has 5 students and I want to store their marks\n"
   ]
  },
  {
   "cell_type": "code",
   "execution_count": 25,
   "id": "7b2b2d7c",
   "metadata": {},
   "outputs": [],
   "source": [
    "student_1 = 50\n",
    "student_2 = 80\n",
    "student_3 = 56\n",
    "student_4 = 89\n",
    "student_5 = 26"
   ]
  },
  {
   "cell_type": "code",
   "execution_count": 26,
   "id": "8e199ba8",
   "metadata": {},
   "outputs": [
    {
     "name": "stdout",
     "output_type": "stream",
     "text": [
      "marks of student 5 =  26\n"
     ]
    }
   ],
   "source": [
    "student_marks = [50,80,56,89,26]\n",
    "print(\"marks of student 5 = \",student_marks[4])"
   ]
  },
  {
   "cell_type": "code",
   "execution_count": 32,
   "id": "5062eed2",
   "metadata": {},
   "outputs": [],
   "source": [
    "random_list = [\"Raj\",\"Ansari\",\"Kritika\",90,96,200.65]"
   ]
  },
  {
   "cell_type": "code",
   "execution_count": 33,
   "id": "2ab7866c",
   "metadata": {},
   "outputs": [
    {
     "data": {
      "text/plain": [
       "2206741749440"
      ]
     },
     "execution_count": 33,
     "metadata": {},
     "output_type": "execute_result"
    }
   ],
   "source": [
    "#memory address of random list\n",
    "id(random_list)"
   ]
  },
  {
   "cell_type": "code",
   "execution_count": 34,
   "id": "d6b16142",
   "metadata": {},
   "outputs": [
    {
     "data": {
      "text/plain": [
       "2206730494448"
      ]
     },
     "execution_count": 34,
     "metadata": {},
     "output_type": "execute_result"
    }
   ],
   "source": [
    "#memory address of Raj\n",
    "id(random_list[0])"
   ]
  },
  {
   "cell_type": "code",
   "execution_count": null,
   "id": "4c2ddfd3",
   "metadata": {},
   "outputs": [],
   "source": []
  },
  {
   "cell_type": "code",
   "execution_count": 35,
   "id": "1707d3d5",
   "metadata": {},
   "outputs": [],
   "source": [
    "random_list[0]=\"Nayva\""
   ]
  },
  {
   "cell_type": "code",
   "execution_count": 36,
   "id": "23b677a0",
   "metadata": {},
   "outputs": [
    {
     "data": {
      "text/plain": [
       "2206740713584"
      ]
     },
     "execution_count": 36,
     "metadata": {},
     "output_type": "execute_result"
    }
   ],
   "source": [
    "id(random_list[0])"
   ]
  },
  {
   "cell_type": "code",
   "execution_count": 37,
   "id": "d9df4d39",
   "metadata": {},
   "outputs": [
    {
     "data": {
      "text/plain": [
       "2206730494448"
      ]
     },
     "execution_count": 37,
     "metadata": {},
     "output_type": "execute_result"
    }
   ],
   "source": [
    "random_list[0]=\"Raj\"\n",
    "id(random_list[0])"
   ]
  },
  {
   "cell_type": "code",
   "execution_count": 30,
   "id": "0e5f95b6",
   "metadata": {},
   "outputs": [
    {
     "data": {
      "text/plain": [
       "['Nayva', 'Ansari', 'Kritika', 90, 96, 200.65]"
      ]
     },
     "execution_count": 30,
     "metadata": {},
     "output_type": "execute_result"
    }
   ],
   "source": [
    "random_list"
   ]
  },
  {
   "cell_type": "code",
   "execution_count": 31,
   "id": "363842ad",
   "metadata": {},
   "outputs": [
    {
     "data": {
      "text/plain": [
       "2206735571520"
      ]
     },
     "execution_count": 31,
     "metadata": {},
     "output_type": "execute_result"
    }
   ],
   "source": [
    "id(random_list)"
   ]
  },
  {
   "cell_type": "markdown",
   "id": "706e312e",
   "metadata": {},
   "source": [
    "## Tuple"
   ]
  },
  {
   "cell_type": "code",
   "execution_count": 38,
   "id": "7967af25",
   "metadata": {},
   "outputs": [
    {
     "name": "stdout",
     "output_type": "stream",
     "text": [
      "<class 'tuple'>\n"
     ]
    }
   ],
   "source": [
    "random_tuple = (\"Raj\",\"Ansari\",\"Kritika\",90,96,200.65)\n",
    "print(type(random_tuple))"
   ]
  },
  {
   "cell_type": "code",
   "execution_count": 40,
   "id": "759e3961",
   "metadata": {},
   "outputs": [
    {
     "ename": "TypeError",
     "evalue": "'tuple' object does not support item assignment",
     "output_type": "error",
     "traceback": [
      "\u001b[1;31m---------------------------------------------------------------------------\u001b[0m",
      "\u001b[1;31mTypeError\u001b[0m                                 Traceback (most recent call last)",
      "Input \u001b[1;32mIn [40]\u001b[0m, in \u001b[0;36m<cell line: 1>\u001b[1;34m()\u001b[0m\n\u001b[1;32m----> 1\u001b[0m \u001b[43mrandom_tuple\u001b[49m\u001b[43m[\u001b[49m\u001b[38;5;241;43m0\u001b[39;49m\u001b[43m]\u001b[49m\u001b[38;5;241m=\u001b[39m\u001b[38;5;124m\"\u001b[39m\u001b[38;5;124mNavya\u001b[39m\u001b[38;5;124m\"\u001b[39m\n",
      "\u001b[1;31mTypeError\u001b[0m: 'tuple' object does not support item assignment"
     ]
    }
   ],
   "source": [
    "random_tuple[0]=\"Navya\""
   ]
  },
  {
   "cell_type": "markdown",
   "id": "f1ca458a",
   "metadata": {},
   "source": [
    "# create a tuple and a list and print their values"
   ]
  },
  {
   "cell_type": "code",
   "execution_count": 72,
   "id": "9e43ea1a",
   "metadata": {},
   "outputs": [
    {
     "name": "stdout",
     "output_type": "stream",
     "text": [
      "{'Chemistry', 'Maths', 'Physics'}\n"
     ]
    }
   ],
   "source": [
    "## Set:\n",
    "\n",
    "set_1 = {\"Maths\",\"Physics\",\"Chemistry\",\"Chemistry\"}\n",
    "print(set_1)\n"
   ]
  },
  {
   "cell_type": "code",
   "execution_count": 43,
   "id": "240c17ec",
   "metadata": {},
   "outputs": [
    {
     "ename": "TypeError",
     "evalue": "'set' object is not subscriptable",
     "output_type": "error",
     "traceback": [
      "\u001b[1;31m---------------------------------------------------------------------------\u001b[0m",
      "\u001b[1;31mTypeError\u001b[0m                                 Traceback (most recent call last)",
      "Input \u001b[1;32mIn [43]\u001b[0m, in \u001b[0;36m<cell line: 1>\u001b[1;34m()\u001b[0m\n\u001b[1;32m----> 1\u001b[0m \u001b[43mset_1\u001b[49m\u001b[43m[\u001b[49m\u001b[38;5;241;43m0\u001b[39;49m\u001b[43m]\u001b[49m\n",
      "\u001b[1;31mTypeError\u001b[0m: 'set' object is not subscriptable"
     ]
    }
   ],
   "source": [
    "set_1[0]"
   ]
  },
  {
   "cell_type": "code",
   "execution_count": 45,
   "id": "485a023f",
   "metadata": {},
   "outputs": [],
   "source": [
    "# set_1.update()\n",
    "set_1.remove(\"Maths\")"
   ]
  },
  {
   "cell_type": "code",
   "execution_count": 52,
   "id": "b981d873",
   "metadata": {},
   "outputs": [],
   "source": [
    "set_1.update({\"Biology\"})"
   ]
  },
  {
   "cell_type": "code",
   "execution_count": 53,
   "id": "f3de3c03",
   "metadata": {},
   "outputs": [
    {
     "data": {
      "text/plain": [
       "{'Biology', 'Chemistry', 'Maths', 'Physics'}"
      ]
     },
     "execution_count": 53,
     "metadata": {},
     "output_type": "execute_result"
    }
   ],
   "source": [
    "set_1"
   ]
  },
  {
   "cell_type": "code",
   "execution_count": 56,
   "id": "dd1db247",
   "metadata": {},
   "outputs": [],
   "source": [
    "set_2 = {(\"Two\",\"Three\"),\"Python\",\"Java\"}"
   ]
  },
  {
   "cell_type": "code",
   "execution_count": 57,
   "id": "131e27f4",
   "metadata": {},
   "outputs": [
    {
     "data": {
      "text/plain": [
       "{('Two', 'Three'), 'Java', 'Python'}"
      ]
     },
     "execution_count": 57,
     "metadata": {},
     "output_type": "execute_result"
    }
   ],
   "source": [
    "set_2"
   ]
  },
  {
   "cell_type": "code",
   "execution_count": 58,
   "id": "b1411e88",
   "metadata": {},
   "outputs": [
    {
     "ename": "TypeError",
     "evalue": "unhashable type: 'list'",
     "output_type": "error",
     "traceback": [
      "\u001b[1;31m---------------------------------------------------------------------------\u001b[0m",
      "\u001b[1;31mTypeError\u001b[0m                                 Traceback (most recent call last)",
      "Input \u001b[1;32mIn [58]\u001b[0m, in \u001b[0;36m<cell line: 1>\u001b[1;34m()\u001b[0m\n\u001b[1;32m----> 1\u001b[0m set_2 \u001b[38;5;241m=\u001b[39m {(\u001b[38;5;124m\"\u001b[39m\u001b[38;5;124mTwo\u001b[39m\u001b[38;5;124m\"\u001b[39m,\u001b[38;5;124m\"\u001b[39m\u001b[38;5;124mThree\u001b[39m\u001b[38;5;124m\"\u001b[39m),\u001b[38;5;124m\"\u001b[39m\u001b[38;5;124mPython\u001b[39m\u001b[38;5;124m\"\u001b[39m,\u001b[38;5;124m\"\u001b[39m\u001b[38;5;124mJava\u001b[39m\u001b[38;5;124m\"\u001b[39m,[\u001b[38;5;241m1\u001b[39m,\u001b[38;5;241m2\u001b[39m]}\n",
      "\u001b[1;31mTypeError\u001b[0m: unhashable type: 'list'"
     ]
    }
   ],
   "source": [
    "set_2 = {(\"Two\",\"Three\"),\"Python\",\"Java\",[1,2]}"
   ]
  },
  {
   "cell_type": "code",
   "execution_count": 59,
   "id": "42f8c636",
   "metadata": {},
   "outputs": [
    {
     "ename": "TypeError",
     "evalue": "unhashable type: 'set'",
     "output_type": "error",
     "traceback": [
      "\u001b[1;31m---------------------------------------------------------------------------\u001b[0m",
      "\u001b[1;31mTypeError\u001b[0m                                 Traceback (most recent call last)",
      "Input \u001b[1;32mIn [59]\u001b[0m, in \u001b[0;36m<cell line: 1>\u001b[1;34m()\u001b[0m\n\u001b[1;32m----> 1\u001b[0m set_3 \u001b[38;5;241m=\u001b[39m {\u001b[38;5;124m\"\u001b[39m\u001b[38;5;124mabcd\u001b[39m\u001b[38;5;124m\"\u001b[39m,\u001b[38;5;124m\"\u001b[39m\u001b[38;5;124mefgh\u001b[39m\u001b[38;5;124m\"\u001b[39m,set_2}\n",
      "\u001b[1;31mTypeError\u001b[0m: unhashable type: 'set'"
     ]
    }
   ],
   "source": [
    "set_3 = {\"abcd\",\"efgh\",set_2}"
   ]
  },
  {
   "cell_type": "markdown",
   "id": "da811b1b",
   "metadata": {},
   "source": [
    "## Dictionary"
   ]
  },
  {
   "cell_type": "code",
   "execution_count": 60,
   "id": "5ba4ff35",
   "metadata": {},
   "outputs": [],
   "source": [
    "degree_1 = {\"Navya\":\"Btech\",\"Arushi\":\"MCom\"}"
   ]
  },
  {
   "cell_type": "code",
   "execution_count": 61,
   "id": "fd420b61",
   "metadata": {},
   "outputs": [],
   "source": [
    "degree_2 = {\"Arushi\":\"MCom\",\"Navya\":\"Btech\"}"
   ]
  },
  {
   "cell_type": "code",
   "execution_count": 63,
   "id": "9ca3ab86",
   "metadata": {},
   "outputs": [
    {
     "data": {
      "text/plain": [
       "True"
      ]
     },
     "execution_count": 63,
     "metadata": {},
     "output_type": "execute_result"
    }
   ],
   "source": [
    "degree_1 == degree_2"
   ]
  },
  {
   "cell_type": "markdown",
   "id": "d894e0bf",
   "metadata": {},
   "source": [
    "# Conversion of Data Types"
   ]
  },
  {
   "cell_type": "code",
   "execution_count": 64,
   "id": "2ae12e6f",
   "metadata": {},
   "outputs": [
    {
     "name": "stdout",
     "output_type": "stream",
     "text": [
      "type of a =  <class 'int'> type of b <class 'float'>  type of c  <class 'float'>\n"
     ]
    }
   ],
   "source": [
    "# Implicit Type Conversion\n",
    "a=5\n",
    "b=6.5\n",
    "c = a+b\n",
    "print(\"type of a = \",type(a),\"type of b\",type(b),\" type of c \", type(c))"
   ]
  },
  {
   "cell_type": "code",
   "execution_count": 66,
   "id": "54857873",
   "metadata": {},
   "outputs": [
    {
     "name": "stdout",
     "output_type": "stream",
     "text": [
      "<class 'int'>\n",
      "<class 'float'>\n"
     ]
    }
   ],
   "source": [
    "# Explict Type Conversion\n",
    "a=5\n",
    "print(type(a))\n",
    "a = float(a)\n",
    "print(type(a))"
   ]
  },
  {
   "cell_type": "code",
   "execution_count": 69,
   "id": "0d9a45fc",
   "metadata": {},
   "outputs": [
    {
     "name": "stdout",
     "output_type": "stream",
     "text": [
      "15\n"
     ]
    }
   ],
   "source": [
    "# Explicit Type Conversion\n",
    "a=5\n",
    "b=\"10\"\n",
    "# b = int(b)\n",
    "print(a+b)"
   ]
  },
  {
   "cell_type": "code",
   "execution_count": 71,
   "id": "92e9e92e",
   "metadata": {},
   "outputs": [
    {
     "name": "stdout",
     "output_type": "stream",
     "text": [
      "15\n"
     ]
    }
   ],
   "source": [
    "# Explicit type conversion\n",
    "a=5\n",
    "b=\"10\"\n",
    "b = int(b)\n",
    "print(a+b)"
   ]
  },
  {
   "cell_type": "code",
   "execution_count": null,
   "id": "9d90fb23",
   "metadata": {},
   "outputs": [],
   "source": []
  }
 ],
 "metadata": {
  "kernelspec": {
   "display_name": "Python 3 (ipykernel)",
   "language": "python",
   "name": "python3"
  },
  "language_info": {
   "codemirror_mode": {
    "name": "ipython",
    "version": 3
   },
   "file_extension": ".py",
   "mimetype": "text/x-python",
   "name": "python",
   "nbconvert_exporter": "python",
   "pygments_lexer": "ipython3",
   "version": "3.10.6"
  }
 },
 "nbformat": 4,
 "nbformat_minor": 5
}
